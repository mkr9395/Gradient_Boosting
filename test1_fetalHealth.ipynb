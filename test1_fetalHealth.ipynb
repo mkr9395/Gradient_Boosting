{
 "cells": [
  {
   "cell_type": "code",
   "execution_count": 65,
   "id": "7997914f",
   "metadata": {
    "ExecuteTime": {
     "end_time": "2022-11-28T19:12:44.713204Z",
     "start_time": "2022-11-28T19:12:44.688322Z"
    }
   },
   "outputs": [],
   "source": [
    "import pandas as pd\n",
    "import numpy as np\n",
    "import matplotlib.pyplot as plt\n",
    "import seaborn as sns\n",
    "import math\n",
    "from sklearn.tree import DecisionTreeClassifier\n",
    "from sklearn.tree import plot_tree\n",
    "import missingno as msmo"
   ]
  },
  {
   "cell_type": "code",
   "execution_count": 17,
   "id": "42dbdd1d",
   "metadata": {
    "ExecuteTime": {
     "end_time": "2022-11-28T18:15:07.271965Z",
     "start_time": "2022-11-28T18:15:07.263959Z"
    }
   },
   "outputs": [],
   "source": [
    "pd.options.display.max_columns = None"
   ]
  },
  {
   "cell_type": "code",
   "execution_count": 18,
   "id": "a5aac04a",
   "metadata": {
    "ExecuteTime": {
     "end_time": "2022-11-28T18:15:07.468386Z",
     "start_time": "2022-11-28T18:15:07.442318Z"
    }
   },
   "outputs": [
    {
     "data": {
      "text/html": [
       "<div>\n",
       "<style scoped>\n",
       "    .dataframe tbody tr th:only-of-type {\n",
       "        vertical-align: middle;\n",
       "    }\n",
       "\n",
       "    .dataframe tbody tr th {\n",
       "        vertical-align: top;\n",
       "    }\n",
       "\n",
       "    .dataframe thead th {\n",
       "        text-align: right;\n",
       "    }\n",
       "</style>\n",
       "<table border=\"1\" class=\"dataframe\">\n",
       "  <thead>\n",
       "    <tr style=\"text-align: right;\">\n",
       "      <th></th>\n",
       "      <th>baseline value</th>\n",
       "      <th>accelerations</th>\n",
       "      <th>fetal_movement</th>\n",
       "      <th>uterine_contractions</th>\n",
       "      <th>light_decelerations</th>\n",
       "      <th>severe_decelerations</th>\n",
       "      <th>prolongued_decelerations</th>\n",
       "      <th>abnormal_short_term_variability</th>\n",
       "      <th>mean_value_of_short_term_variability</th>\n",
       "      <th>percentage_of_time_with_abnormal_long_term_variability</th>\n",
       "      <th>mean_value_of_long_term_variability</th>\n",
       "      <th>histogram_width</th>\n",
       "      <th>histogram_min</th>\n",
       "      <th>histogram_max</th>\n",
       "      <th>histogram_number_of_peaks</th>\n",
       "      <th>histogram_number_of_zeroes</th>\n",
       "      <th>histogram_mode</th>\n",
       "      <th>histogram_mean</th>\n",
       "      <th>histogram_median</th>\n",
       "      <th>histogram_variance</th>\n",
       "      <th>histogram_tendency</th>\n",
       "      <th>fetal_health</th>\n",
       "    </tr>\n",
       "  </thead>\n",
       "  <tbody>\n",
       "    <tr>\n",
       "      <th>0</th>\n",
       "      <td>120.0</td>\n",
       "      <td>0.000</td>\n",
       "      <td>0.0</td>\n",
       "      <td>0.000</td>\n",
       "      <td>0.000</td>\n",
       "      <td>0.0</td>\n",
       "      <td>0.0</td>\n",
       "      <td>73.0</td>\n",
       "      <td>0.5</td>\n",
       "      <td>43.0</td>\n",
       "      <td>2.4</td>\n",
       "      <td>64.0</td>\n",
       "      <td>62.0</td>\n",
       "      <td>126.0</td>\n",
       "      <td>2.0</td>\n",
       "      <td>0.0</td>\n",
       "      <td>120.0</td>\n",
       "      <td>137.0</td>\n",
       "      <td>121.0</td>\n",
       "      <td>73.0</td>\n",
       "      <td>1.0</td>\n",
       "      <td>2.0</td>\n",
       "    </tr>\n",
       "    <tr>\n",
       "      <th>1</th>\n",
       "      <td>132.0</td>\n",
       "      <td>0.006</td>\n",
       "      <td>0.0</td>\n",
       "      <td>0.006</td>\n",
       "      <td>0.003</td>\n",
       "      <td>0.0</td>\n",
       "      <td>0.0</td>\n",
       "      <td>17.0</td>\n",
       "      <td>2.1</td>\n",
       "      <td>0.0</td>\n",
       "      <td>10.4</td>\n",
       "      <td>130.0</td>\n",
       "      <td>68.0</td>\n",
       "      <td>198.0</td>\n",
       "      <td>6.0</td>\n",
       "      <td>1.0</td>\n",
       "      <td>141.0</td>\n",
       "      <td>136.0</td>\n",
       "      <td>140.0</td>\n",
       "      <td>12.0</td>\n",
       "      <td>0.0</td>\n",
       "      <td>1.0</td>\n",
       "    </tr>\n",
       "    <tr>\n",
       "      <th>2</th>\n",
       "      <td>133.0</td>\n",
       "      <td>0.003</td>\n",
       "      <td>0.0</td>\n",
       "      <td>0.008</td>\n",
       "      <td>0.003</td>\n",
       "      <td>0.0</td>\n",
       "      <td>0.0</td>\n",
       "      <td>16.0</td>\n",
       "      <td>2.1</td>\n",
       "      <td>0.0</td>\n",
       "      <td>13.4</td>\n",
       "      <td>130.0</td>\n",
       "      <td>68.0</td>\n",
       "      <td>198.0</td>\n",
       "      <td>5.0</td>\n",
       "      <td>1.0</td>\n",
       "      <td>141.0</td>\n",
       "      <td>135.0</td>\n",
       "      <td>138.0</td>\n",
       "      <td>13.0</td>\n",
       "      <td>0.0</td>\n",
       "      <td>1.0</td>\n",
       "    </tr>\n",
       "    <tr>\n",
       "      <th>3</th>\n",
       "      <td>134.0</td>\n",
       "      <td>0.003</td>\n",
       "      <td>0.0</td>\n",
       "      <td>0.008</td>\n",
       "      <td>0.003</td>\n",
       "      <td>0.0</td>\n",
       "      <td>0.0</td>\n",
       "      <td>16.0</td>\n",
       "      <td>2.4</td>\n",
       "      <td>0.0</td>\n",
       "      <td>23.0</td>\n",
       "      <td>117.0</td>\n",
       "      <td>53.0</td>\n",
       "      <td>170.0</td>\n",
       "      <td>11.0</td>\n",
       "      <td>0.0</td>\n",
       "      <td>137.0</td>\n",
       "      <td>134.0</td>\n",
       "      <td>137.0</td>\n",
       "      <td>13.0</td>\n",
       "      <td>1.0</td>\n",
       "      <td>1.0</td>\n",
       "    </tr>\n",
       "    <tr>\n",
       "      <th>4</th>\n",
       "      <td>132.0</td>\n",
       "      <td>0.007</td>\n",
       "      <td>0.0</td>\n",
       "      <td>0.008</td>\n",
       "      <td>0.000</td>\n",
       "      <td>0.0</td>\n",
       "      <td>0.0</td>\n",
       "      <td>16.0</td>\n",
       "      <td>2.4</td>\n",
       "      <td>0.0</td>\n",
       "      <td>19.9</td>\n",
       "      <td>117.0</td>\n",
       "      <td>53.0</td>\n",
       "      <td>170.0</td>\n",
       "      <td>9.0</td>\n",
       "      <td>0.0</td>\n",
       "      <td>137.0</td>\n",
       "      <td>136.0</td>\n",
       "      <td>138.0</td>\n",
       "      <td>11.0</td>\n",
       "      <td>1.0</td>\n",
       "      <td>1.0</td>\n",
       "    </tr>\n",
       "  </tbody>\n",
       "</table>\n",
       "</div>"
      ],
      "text/plain": [
       "   baseline value  accelerations  fetal_movement  uterine_contractions  \\\n",
       "0           120.0          0.000             0.0                 0.000   \n",
       "1           132.0          0.006             0.0                 0.006   \n",
       "2           133.0          0.003             0.0                 0.008   \n",
       "3           134.0          0.003             0.0                 0.008   \n",
       "4           132.0          0.007             0.0                 0.008   \n",
       "\n",
       "   light_decelerations  severe_decelerations  prolongued_decelerations  \\\n",
       "0                0.000                   0.0                       0.0   \n",
       "1                0.003                   0.0                       0.0   \n",
       "2                0.003                   0.0                       0.0   \n",
       "3                0.003                   0.0                       0.0   \n",
       "4                0.000                   0.0                       0.0   \n",
       "\n",
       "   abnormal_short_term_variability  mean_value_of_short_term_variability  \\\n",
       "0                             73.0                                   0.5   \n",
       "1                             17.0                                   2.1   \n",
       "2                             16.0                                   2.1   \n",
       "3                             16.0                                   2.4   \n",
       "4                             16.0                                   2.4   \n",
       "\n",
       "   percentage_of_time_with_abnormal_long_term_variability  \\\n",
       "0                                               43.0        \n",
       "1                                                0.0        \n",
       "2                                                0.0        \n",
       "3                                                0.0        \n",
       "4                                                0.0        \n",
       "\n",
       "   mean_value_of_long_term_variability  histogram_width  histogram_min  \\\n",
       "0                                  2.4             64.0           62.0   \n",
       "1                                 10.4            130.0           68.0   \n",
       "2                                 13.4            130.0           68.0   \n",
       "3                                 23.0            117.0           53.0   \n",
       "4                                 19.9            117.0           53.0   \n",
       "\n",
       "   histogram_max  histogram_number_of_peaks  histogram_number_of_zeroes  \\\n",
       "0          126.0                        2.0                         0.0   \n",
       "1          198.0                        6.0                         1.0   \n",
       "2          198.0                        5.0                         1.0   \n",
       "3          170.0                       11.0                         0.0   \n",
       "4          170.0                        9.0                         0.0   \n",
       "\n",
       "   histogram_mode  histogram_mean  histogram_median  histogram_variance  \\\n",
       "0           120.0           137.0             121.0                73.0   \n",
       "1           141.0           136.0             140.0                12.0   \n",
       "2           141.0           135.0             138.0                13.0   \n",
       "3           137.0           134.0             137.0                13.0   \n",
       "4           137.0           136.0             138.0                11.0   \n",
       "\n",
       "   histogram_tendency  fetal_health  \n",
       "0                 1.0           2.0  \n",
       "1                 0.0           1.0  \n",
       "2                 0.0           1.0  \n",
       "3                 1.0           1.0  \n",
       "4                 1.0           1.0  "
      ]
     },
     "execution_count": 18,
     "metadata": {},
     "output_type": "execute_result"
    }
   ],
   "source": [
    "data= pd.read_csv('fetal_health.csv')\n",
    "data.head()"
   ]
  },
  {
   "cell_type": "code",
   "execution_count": 19,
   "id": "e5b87e34",
   "metadata": {
    "ExecuteTime": {
     "end_time": "2022-11-28T18:15:07.624419Z",
     "start_time": "2022-11-28T18:15:07.610663Z"
    }
   },
   "outputs": [
    {
     "data": {
      "text/plain": [
       "Index(['baseline value', 'accelerations', 'fetal_movement',\n",
       "       'uterine_contractions', 'light_decelerations', 'severe_decelerations',\n",
       "       'prolongued_decelerations', 'abnormal_short_term_variability',\n",
       "       'mean_value_of_short_term_variability',\n",
       "       'percentage_of_time_with_abnormal_long_term_variability',\n",
       "       'mean_value_of_long_term_variability', 'histogram_width',\n",
       "       'histogram_min', 'histogram_max', 'histogram_number_of_peaks',\n",
       "       'histogram_number_of_zeroes', 'histogram_mode', 'histogram_mean',\n",
       "       'histogram_median', 'histogram_variance', 'histogram_tendency',\n",
       "       'fetal_health'],\n",
       "      dtype='object')"
      ]
     },
     "execution_count": 19,
     "metadata": {},
     "output_type": "execute_result"
    }
   ],
   "source": [
    "data.columns"
   ]
  },
  {
   "cell_type": "code",
   "execution_count": 20,
   "id": "451ba1a9",
   "metadata": {
    "ExecuteTime": {
     "end_time": "2022-11-28T18:15:07.782552Z",
     "start_time": "2022-11-28T18:15:07.767475Z"
    }
   },
   "outputs": [
    {
     "data": {
      "text/plain": [
       "((2126, 21), (2126,))"
      ]
     },
     "execution_count": 20,
     "metadata": {},
     "output_type": "execute_result"
    }
   ],
   "source": [
    "X = data.iloc[:,:-1]\n",
    "y = data.iloc[:,-1]\n",
    "\n",
    "X.shape, y.shape"
   ]
  },
  {
   "cell_type": "code",
   "execution_count": 21,
   "id": "ca0c370e",
   "metadata": {
    "ExecuteTime": {
     "end_time": "2022-11-28T18:15:07.939594Z",
     "start_time": "2022-11-28T18:15:07.935591Z"
    }
   },
   "outputs": [],
   "source": [
    "from sklearn.model_selection import train_test_split"
   ]
  },
  {
   "cell_type": "code",
   "execution_count": 22,
   "id": "378cf9ba",
   "metadata": {
    "ExecuteTime": {
     "end_time": "2022-11-28T18:15:08.127085Z",
     "start_time": "2022-11-28T18:15:08.113242Z"
    }
   },
   "outputs": [
    {
     "data": {
      "text/plain": [
       "((1700, 21), (426, 21), (1700,), (426,))"
      ]
     },
     "execution_count": 22,
     "metadata": {},
     "output_type": "execute_result"
    }
   ],
   "source": [
    "X_train, X_test, y_train, y_test = train_test_split(X,y,test_size=0.2,stratify=y,random_state=25)\n",
    "X_train.shape, X_test.shape, y_train.shape, y_test.shape"
   ]
  },
  {
   "cell_type": "code",
   "execution_count": 23,
   "id": "d67ad6cb",
   "metadata": {
    "ExecuteTime": {
     "end_time": "2022-11-28T18:15:08.733180Z",
     "start_time": "2022-11-28T18:15:08.716288Z"
    }
   },
   "outputs": [
    {
     "data": {
      "text/plain": [
       "1.0    0.778235\n",
       "2.0    0.138824\n",
       "3.0    0.082941\n",
       "Name: fetal_health, dtype: float64"
      ]
     },
     "execution_count": 23,
     "metadata": {},
     "output_type": "execute_result"
    }
   ],
   "source": [
    "y_train.value_counts(normalize=True)"
   ]
  },
  {
   "cell_type": "code",
   "execution_count": 24,
   "id": "16cadf5b",
   "metadata": {
    "ExecuteTime": {
     "end_time": "2022-11-28T18:15:09.027627Z",
     "start_time": "2022-11-28T18:15:09.011250Z"
    }
   },
   "outputs": [
    {
     "data": {
      "text/plain": [
       "1.0    0.779343\n",
       "2.0    0.138498\n",
       "3.0    0.082160\n",
       "Name: fetal_health, dtype: float64"
      ]
     },
     "execution_count": 24,
     "metadata": {},
     "output_type": "execute_result"
    }
   ],
   "source": [
    "y_test.value_counts(normalize=True)"
   ]
  },
  {
   "cell_type": "code",
   "execution_count": 25,
   "id": "c51be74d",
   "metadata": {
    "ExecuteTime": {
     "end_time": "2022-11-28T18:15:09.260358Z",
     "start_time": "2022-11-28T18:15:09.244235Z"
    }
   },
   "outputs": [],
   "source": [
    "from sklearn.preprocessing import StandardScaler"
   ]
  },
  {
   "cell_type": "code",
   "execution_count": 26,
   "id": "d95cb98d",
   "metadata": {
    "ExecuteTime": {
     "end_time": "2022-11-28T18:15:09.680089Z",
     "start_time": "2022-11-28T18:15:09.675718Z"
    }
   },
   "outputs": [],
   "source": [
    "scaler = StandardScaler()"
   ]
  },
  {
   "cell_type": "code",
   "execution_count": 27,
   "id": "7d37e5fa",
   "metadata": {
    "ExecuteTime": {
     "end_time": "2022-11-28T18:15:10.085306Z",
     "start_time": "2022-11-28T18:15:10.076989Z"
    }
   },
   "outputs": [
    {
     "data": {
      "text/plain": [
       "array([[-0.43040726,  0.94785277, -0.00367084, ..., -0.63692832,\n",
       "         2.30981823, -0.52645095],\n",
       "       [-0.43040726, -0.829838  , -0.1574841 , ..., -0.4269791 ,\n",
       "        -0.58566654,  1.10372503],\n",
       "       [ 0.1836003 ,  1.20180859, -0.20143074, ...,  0.55278397,\n",
       "        -0.30990609, -0.52645095],\n",
       "       ...,\n",
       "       [ 0.49060408, -0.06797053, -0.1574841 , ...,  0.13288551,\n",
       "         0.24161482,  1.10372503],\n",
       "       [-2.37476454,  0.1859853 , -0.20143074, ..., -2.24653907,\n",
       "         1.44806681, -2.15662692],\n",
       "       [ 0.28593489,  2.47158772, -0.20143074, ...,  0.48280089,\n",
       "        -0.44778631, -0.52645095]])"
      ]
     },
     "execution_count": 27,
     "metadata": {},
     "output_type": "execute_result"
    }
   ],
   "source": [
    "X_train_scaled = scaler.fit_transform(X_train)\n",
    "X_train_scaled "
   ]
  },
  {
   "cell_type": "code",
   "execution_count": 28,
   "id": "6c33726b",
   "metadata": {
    "ExecuteTime": {
     "end_time": "2022-11-28T18:15:10.898982Z",
     "start_time": "2022-11-28T18:15:10.886072Z"
    }
   },
   "outputs": [
    {
     "data": {
      "text/html": [
       "<div>\n",
       "<style scoped>\n",
       "    .dataframe tbody tr th:only-of-type {\n",
       "        vertical-align: middle;\n",
       "    }\n",
       "\n",
       "    .dataframe tbody tr th {\n",
       "        vertical-align: top;\n",
       "    }\n",
       "\n",
       "    .dataframe thead th {\n",
       "        text-align: right;\n",
       "    }\n",
       "</style>\n",
       "<table border=\"1\" class=\"dataframe\">\n",
       "  <thead>\n",
       "    <tr style=\"text-align: right;\">\n",
       "      <th></th>\n",
       "      <th>baseline value</th>\n",
       "      <th>accelerations</th>\n",
       "      <th>fetal_movement</th>\n",
       "      <th>uterine_contractions</th>\n",
       "      <th>light_decelerations</th>\n",
       "      <th>severe_decelerations</th>\n",
       "      <th>prolongued_decelerations</th>\n",
       "      <th>abnormal_short_term_variability</th>\n",
       "      <th>mean_value_of_short_term_variability</th>\n",
       "      <th>percentage_of_time_with_abnormal_long_term_variability</th>\n",
       "      <th>mean_value_of_long_term_variability</th>\n",
       "      <th>histogram_width</th>\n",
       "      <th>histogram_min</th>\n",
       "      <th>histogram_max</th>\n",
       "      <th>histogram_number_of_peaks</th>\n",
       "      <th>histogram_number_of_zeroes</th>\n",
       "      <th>histogram_mode</th>\n",
       "      <th>histogram_mean</th>\n",
       "      <th>histogram_median</th>\n",
       "      <th>histogram_variance</th>\n",
       "      <th>histogram_tendency</th>\n",
       "    </tr>\n",
       "  </thead>\n",
       "  <tbody>\n",
       "    <tr>\n",
       "      <th>0</th>\n",
       "      <td>-0.430407</td>\n",
       "      <td>0.947853</td>\n",
       "      <td>-0.003671</td>\n",
       "      <td>1.583053</td>\n",
       "      <td>3.425046</td>\n",
       "      <td>-0.048564</td>\n",
       "      <td>-0.268823</td>\n",
       "      <td>-1.442255</td>\n",
       "      <td>4.468198</td>\n",
       "      <td>-0.533950</td>\n",
       "      <td>-1.459816</td>\n",
       "      <td>1.921960</td>\n",
       "      <td>-1.477785</td>\n",
       "      <td>1.728212</td>\n",
       "      <td>3.084005</td>\n",
       "      <td>0.949833</td>\n",
       "      <td>0.093525</td>\n",
       "      <td>-0.824847</td>\n",
       "      <td>-0.636928</td>\n",
       "      <td>2.309818</td>\n",
       "      <td>-0.526451</td>\n",
       "    </tr>\n",
       "    <tr>\n",
       "      <th>1</th>\n",
       "      <td>-0.430407</td>\n",
       "      <td>-0.829838</td>\n",
       "      <td>-0.157484</td>\n",
       "      <td>-1.497287</td>\n",
       "      <td>-0.647399</td>\n",
       "      <td>-0.048564</td>\n",
       "      <td>-0.268823</td>\n",
       "      <td>0.065994</td>\n",
       "      <td>-0.495712</td>\n",
       "      <td>0.169286</td>\n",
       "      <td>0.561293</td>\n",
       "      <td>0.011360</td>\n",
       "      <td>-0.933783</td>\n",
       "      <td>-1.507734</td>\n",
       "      <td>-1.052605</td>\n",
       "      <td>-0.467828</td>\n",
       "      <td>-0.402553</td>\n",
       "      <td>-0.303931</td>\n",
       "      <td>-0.426979</td>\n",
       "      <td>-0.585667</td>\n",
       "      <td>1.103725</td>\n",
       "    </tr>\n",
       "    <tr>\n",
       "      <th>2</th>\n",
       "      <td>0.183600</td>\n",
       "      <td>1.201809</td>\n",
       "      <td>-0.201431</td>\n",
       "      <td>0.214013</td>\n",
       "      <td>-0.647399</td>\n",
       "      <td>-0.048564</td>\n",
       "      <td>-0.268823</td>\n",
       "      <td>0.646090</td>\n",
       "      <td>-0.380272</td>\n",
       "      <td>-0.533950</td>\n",
       "      <td>-0.611672</td>\n",
       "      <td>-0.324286</td>\n",
       "      <td>0.664222</td>\n",
       "      <td>0.389200</td>\n",
       "      <td>-0.363170</td>\n",
       "      <td>-0.467828</td>\n",
       "      <td>0.217545</td>\n",
       "      <td>0.607671</td>\n",
       "      <td>0.552784</td>\n",
       "      <td>-0.309906</td>\n",
       "      <td>-0.526451</td>\n",
       "    </tr>\n",
       "    <tr>\n",
       "      <th>3</th>\n",
       "      <td>-1.146749</td>\n",
       "      <td>-0.829838</td>\n",
       "      <td>-0.201431</td>\n",
       "      <td>0.898533</td>\n",
       "      <td>0.370712</td>\n",
       "      <td>-0.048564</td>\n",
       "      <td>-0.268823</td>\n",
       "      <td>-0.920169</td>\n",
       "      <td>-0.380272</td>\n",
       "      <td>-0.155285</td>\n",
       "      <td>0.254517</td>\n",
       "      <td>-0.995577</td>\n",
       "      <td>0.256221</td>\n",
       "      <td>-1.730903</td>\n",
       "      <td>-0.707888</td>\n",
       "      <td>-0.467828</td>\n",
       "      <td>-0.898630</td>\n",
       "      <td>-0.824847</td>\n",
       "      <td>-0.986844</td>\n",
       "      <td>-0.551196</td>\n",
       "      <td>1.103725</td>\n",
       "    </tr>\n",
       "    <tr>\n",
       "      <th>4</th>\n",
       "      <td>2.537296</td>\n",
       "      <td>0.439941</td>\n",
       "      <td>-0.201431</td>\n",
       "      <td>1.240793</td>\n",
       "      <td>-0.647399</td>\n",
       "      <td>-0.048564</td>\n",
       "      <td>-0.268823</td>\n",
       "      <td>-1.036188</td>\n",
       "      <td>-0.033953</td>\n",
       "      <td>-0.533950</td>\n",
       "      <td>0.850023</td>\n",
       "      <td>-0.401742</td>\n",
       "      <td>1.650225</td>\n",
       "      <td>1.839796</td>\n",
       "      <td>-0.018453</td>\n",
       "      <td>-0.467828</td>\n",
       "      <td>2.015827</td>\n",
       "      <td>2.365762</td>\n",
       "      <td>2.372344</td>\n",
       "      <td>-0.344376</td>\n",
       "      <td>-0.526451</td>\n",
       "    </tr>\n",
       "  </tbody>\n",
       "</table>\n",
       "</div>"
      ],
      "text/plain": [
       "   baseline value  accelerations  fetal_movement  uterine_contractions  \\\n",
       "0       -0.430407       0.947853       -0.003671              1.583053   \n",
       "1       -0.430407      -0.829838       -0.157484             -1.497287   \n",
       "2        0.183600       1.201809       -0.201431              0.214013   \n",
       "3       -1.146749      -0.829838       -0.201431              0.898533   \n",
       "4        2.537296       0.439941       -0.201431              1.240793   \n",
       "\n",
       "   light_decelerations  severe_decelerations  prolongued_decelerations  \\\n",
       "0             3.425046             -0.048564                 -0.268823   \n",
       "1            -0.647399             -0.048564                 -0.268823   \n",
       "2            -0.647399             -0.048564                 -0.268823   \n",
       "3             0.370712             -0.048564                 -0.268823   \n",
       "4            -0.647399             -0.048564                 -0.268823   \n",
       "\n",
       "   abnormal_short_term_variability  mean_value_of_short_term_variability  \\\n",
       "0                        -1.442255                              4.468198   \n",
       "1                         0.065994                             -0.495712   \n",
       "2                         0.646090                             -0.380272   \n",
       "3                        -0.920169                             -0.380272   \n",
       "4                        -1.036188                             -0.033953   \n",
       "\n",
       "   percentage_of_time_with_abnormal_long_term_variability  \\\n",
       "0                                          -0.533950        \n",
       "1                                           0.169286        \n",
       "2                                          -0.533950        \n",
       "3                                          -0.155285        \n",
       "4                                          -0.533950        \n",
       "\n",
       "   mean_value_of_long_term_variability  histogram_width  histogram_min  \\\n",
       "0                            -1.459816         1.921960      -1.477785   \n",
       "1                             0.561293         0.011360      -0.933783   \n",
       "2                            -0.611672        -0.324286       0.664222   \n",
       "3                             0.254517        -0.995577       0.256221   \n",
       "4                             0.850023        -0.401742       1.650225   \n",
       "\n",
       "   histogram_max  histogram_number_of_peaks  histogram_number_of_zeroes  \\\n",
       "0       1.728212                   3.084005                    0.949833   \n",
       "1      -1.507734                  -1.052605                   -0.467828   \n",
       "2       0.389200                  -0.363170                   -0.467828   \n",
       "3      -1.730903                  -0.707888                   -0.467828   \n",
       "4       1.839796                  -0.018453                   -0.467828   \n",
       "\n",
       "   histogram_mode  histogram_mean  histogram_median  histogram_variance  \\\n",
       "0        0.093525       -0.824847         -0.636928            2.309818   \n",
       "1       -0.402553       -0.303931         -0.426979           -0.585667   \n",
       "2        0.217545        0.607671          0.552784           -0.309906   \n",
       "3       -0.898630       -0.824847         -0.986844           -0.551196   \n",
       "4        2.015827        2.365762          2.372344           -0.344376   \n",
       "\n",
       "   histogram_tendency  \n",
       "0           -0.526451  \n",
       "1            1.103725  \n",
       "2           -0.526451  \n",
       "3            1.103725  \n",
       "4           -0.526451  "
      ]
     },
     "execution_count": 28,
     "metadata": {},
     "output_type": "execute_result"
    }
   ],
   "source": [
    "X_train_scaled = pd.DataFrame(X_train_scaled,columns=X.columns)\n",
    "X_train_scaled.head()"
   ]
  },
  {
   "cell_type": "code",
   "execution_count": 29,
   "id": "914569bf",
   "metadata": {
    "ExecuteTime": {
     "end_time": "2022-11-28T18:15:11.872197Z",
     "start_time": "2022-11-28T18:15:11.853100Z"
    },
    "scrolled": true
   },
   "outputs": [
    {
     "data": {
      "text/html": [
       "<div>\n",
       "<style scoped>\n",
       "    .dataframe tbody tr th:only-of-type {\n",
       "        vertical-align: middle;\n",
       "    }\n",
       "\n",
       "    .dataframe tbody tr th {\n",
       "        vertical-align: top;\n",
       "    }\n",
       "\n",
       "    .dataframe thead th {\n",
       "        text-align: right;\n",
       "    }\n",
       "</style>\n",
       "<table border=\"1\" class=\"dataframe\">\n",
       "  <thead>\n",
       "    <tr style=\"text-align: right;\">\n",
       "      <th></th>\n",
       "      <th>baseline value</th>\n",
       "      <th>accelerations</th>\n",
       "      <th>fetal_movement</th>\n",
       "      <th>uterine_contractions</th>\n",
       "      <th>light_decelerations</th>\n",
       "      <th>severe_decelerations</th>\n",
       "      <th>prolongued_decelerations</th>\n",
       "      <th>abnormal_short_term_variability</th>\n",
       "      <th>mean_value_of_short_term_variability</th>\n",
       "      <th>percentage_of_time_with_abnormal_long_term_variability</th>\n",
       "      <th>mean_value_of_long_term_variability</th>\n",
       "      <th>histogram_width</th>\n",
       "      <th>histogram_min</th>\n",
       "      <th>histogram_max</th>\n",
       "      <th>histogram_number_of_peaks</th>\n",
       "      <th>histogram_number_of_zeroes</th>\n",
       "      <th>histogram_mode</th>\n",
       "      <th>histogram_mean</th>\n",
       "      <th>histogram_median</th>\n",
       "      <th>histogram_variance</th>\n",
       "      <th>histogram_tendency</th>\n",
       "    </tr>\n",
       "  </thead>\n",
       "  <tbody>\n",
       "    <tr>\n",
       "      <th>0</th>\n",
       "      <td>0.899942</td>\n",
       "      <td>1.201809</td>\n",
       "      <td>-0.201431</td>\n",
       "      <td>0.556273</td>\n",
       "      <td>-0.647399</td>\n",
       "      <td>-0.048564</td>\n",
       "      <td>-0.268823</td>\n",
       "      <td>-0.282063</td>\n",
       "      <td>-0.380272</td>\n",
       "      <td>-0.53395</td>\n",
       "      <td>0.074061</td>\n",
       "      <td>-0.246829</td>\n",
       "      <td>0.426221</td>\n",
       "      <td>0.166031</td>\n",
       "      <td>-0.707888</td>\n",
       "      <td>-0.467828</td>\n",
       "      <td>0.775632</td>\n",
       "      <td>0.933244</td>\n",
       "      <td>0.902699</td>\n",
       "      <td>-0.551196</td>\n",
       "      <td>1.103725</td>\n",
       "    </tr>\n",
       "    <tr>\n",
       "      <th>1</th>\n",
       "      <td>0.490604</td>\n",
       "      <td>1.201809</td>\n",
       "      <td>-0.201431</td>\n",
       "      <td>-1.497287</td>\n",
       "      <td>0.370712</td>\n",
       "      <td>-0.048564</td>\n",
       "      <td>-0.268823</td>\n",
       "      <td>0.124004</td>\n",
       "      <td>0.312366</td>\n",
       "      <td>-0.53395</td>\n",
       "      <td>-0.611672</td>\n",
       "      <td>0.553557</td>\n",
       "      <td>-0.457781</td>\n",
       "      <td>0.444992</td>\n",
       "      <td>-0.018453</td>\n",
       "      <td>0.949833</td>\n",
       "      <td>0.279554</td>\n",
       "      <td>0.477442</td>\n",
       "      <td>0.482801</td>\n",
       "      <td>0.069265</td>\n",
       "      <td>1.103725</td>\n",
       "    </tr>\n",
       "    <tr>\n",
       "      <th>2</th>\n",
       "      <td>-0.737411</td>\n",
       "      <td>0.439941</td>\n",
       "      <td>0.325929</td>\n",
       "      <td>-0.128247</td>\n",
       "      <td>-0.647399</td>\n",
       "      <td>-0.048564</td>\n",
       "      <td>-0.268823</td>\n",
       "      <td>-0.340073</td>\n",
       "      <td>-0.033953</td>\n",
       "      <td>-0.42576</td>\n",
       "      <td>0.471065</td>\n",
       "      <td>1.457219</td>\n",
       "      <td>-0.933783</td>\n",
       "      <td>1.616627</td>\n",
       "      <td>1.705135</td>\n",
       "      <td>-0.467828</td>\n",
       "      <td>-0.526572</td>\n",
       "      <td>-0.108588</td>\n",
       "      <td>-0.356996</td>\n",
       "      <td>-0.275436</td>\n",
       "      <td>-0.526451</td>\n",
       "    </tr>\n",
       "    <tr>\n",
       "      <th>3</th>\n",
       "      <td>1.309281</td>\n",
       "      <td>0.693897</td>\n",
       "      <td>-0.201431</td>\n",
       "      <td>-0.128247</td>\n",
       "      <td>-0.647399</td>\n",
       "      <td>-0.048564</td>\n",
       "      <td>-0.268823</td>\n",
       "      <td>-0.514101</td>\n",
       "      <td>-0.495712</td>\n",
       "      <td>-0.53395</td>\n",
       "      <td>0.056016</td>\n",
       "      <td>-0.556656</td>\n",
       "      <td>1.106224</td>\n",
       "      <td>0.612368</td>\n",
       "      <td>-0.707888</td>\n",
       "      <td>-0.467828</td>\n",
       "      <td>1.209700</td>\n",
       "      <td>1.128587</td>\n",
       "      <td>1.112649</td>\n",
       "      <td>-0.447786</td>\n",
       "      <td>-0.526451</td>\n",
       "    </tr>\n",
       "    <tr>\n",
       "      <th>4</th>\n",
       "      <td>0.899942</td>\n",
       "      <td>-0.575882</td>\n",
       "      <td>-0.201431</td>\n",
       "      <td>-0.128247</td>\n",
       "      <td>-0.647399</td>\n",
       "      <td>-0.048564</td>\n",
       "      <td>-0.268823</td>\n",
       "      <td>-0.456092</td>\n",
       "      <td>-0.495712</td>\n",
       "      <td>-0.53395</td>\n",
       "      <td>0.705658</td>\n",
       "      <td>-0.995577</td>\n",
       "      <td>1.140224</td>\n",
       "      <td>-0.280306</td>\n",
       "      <td>-1.052605</td>\n",
       "      <td>-0.467828</td>\n",
       "      <td>0.837642</td>\n",
       "      <td>0.803015</td>\n",
       "      <td>0.762733</td>\n",
       "      <td>-0.516726</td>\n",
       "      <td>1.103725</td>\n",
       "    </tr>\n",
       "  </tbody>\n",
       "</table>\n",
       "</div>"
      ],
      "text/plain": [
       "   baseline value  accelerations  fetal_movement  uterine_contractions  \\\n",
       "0        0.899942       1.201809       -0.201431              0.556273   \n",
       "1        0.490604       1.201809       -0.201431             -1.497287   \n",
       "2       -0.737411       0.439941        0.325929             -0.128247   \n",
       "3        1.309281       0.693897       -0.201431             -0.128247   \n",
       "4        0.899942      -0.575882       -0.201431             -0.128247   \n",
       "\n",
       "   light_decelerations  severe_decelerations  prolongued_decelerations  \\\n",
       "0            -0.647399             -0.048564                 -0.268823   \n",
       "1             0.370712             -0.048564                 -0.268823   \n",
       "2            -0.647399             -0.048564                 -0.268823   \n",
       "3            -0.647399             -0.048564                 -0.268823   \n",
       "4            -0.647399             -0.048564                 -0.268823   \n",
       "\n",
       "   abnormal_short_term_variability  mean_value_of_short_term_variability  \\\n",
       "0                        -0.282063                             -0.380272   \n",
       "1                         0.124004                              0.312366   \n",
       "2                        -0.340073                             -0.033953   \n",
       "3                        -0.514101                             -0.495712   \n",
       "4                        -0.456092                             -0.495712   \n",
       "\n",
       "   percentage_of_time_with_abnormal_long_term_variability  \\\n",
       "0                                           -0.53395        \n",
       "1                                           -0.53395        \n",
       "2                                           -0.42576        \n",
       "3                                           -0.53395        \n",
       "4                                           -0.53395        \n",
       "\n",
       "   mean_value_of_long_term_variability  histogram_width  histogram_min  \\\n",
       "0                             0.074061        -0.246829       0.426221   \n",
       "1                            -0.611672         0.553557      -0.457781   \n",
       "2                             0.471065         1.457219      -0.933783   \n",
       "3                             0.056016        -0.556656       1.106224   \n",
       "4                             0.705658        -0.995577       1.140224   \n",
       "\n",
       "   histogram_max  histogram_number_of_peaks  histogram_number_of_zeroes  \\\n",
       "0       0.166031                  -0.707888                   -0.467828   \n",
       "1       0.444992                  -0.018453                    0.949833   \n",
       "2       1.616627                   1.705135                   -0.467828   \n",
       "3       0.612368                  -0.707888                   -0.467828   \n",
       "4      -0.280306                  -1.052605                   -0.467828   \n",
       "\n",
       "   histogram_mode  histogram_mean  histogram_median  histogram_variance  \\\n",
       "0        0.775632        0.933244          0.902699           -0.551196   \n",
       "1        0.279554        0.477442          0.482801            0.069265   \n",
       "2       -0.526572       -0.108588         -0.356996           -0.275436   \n",
       "3        1.209700        1.128587          1.112649           -0.447786   \n",
       "4        0.837642        0.803015          0.762733           -0.516726   \n",
       "\n",
       "   histogram_tendency  \n",
       "0            1.103725  \n",
       "1            1.103725  \n",
       "2           -0.526451  \n",
       "3           -0.526451  \n",
       "4            1.103725  "
      ]
     },
     "execution_count": 29,
     "metadata": {},
     "output_type": "execute_result"
    }
   ],
   "source": [
    "X_test_scaled = scaler.transform(X_test)\n",
    "X_test_scaled = pd.DataFrame(X_test_scaled,columns=X.columns)\n",
    "X_test_scaled.head()"
   ]
  },
  {
   "cell_type": "code",
   "execution_count": 30,
   "id": "ec91a205",
   "metadata": {
    "ExecuteTime": {
     "end_time": "2022-11-28T18:15:12.777206Z",
     "start_time": "2022-11-28T18:15:12.733348Z"
    }
   },
   "outputs": [],
   "source": [
    "from sklearn.ensemble import GradientBoostingClassifier"
   ]
  },
  {
   "cell_type": "code",
   "execution_count": 31,
   "id": "c69f94c0",
   "metadata": {
    "ExecuteTime": {
     "end_time": "2022-11-28T18:15:13.248720Z",
     "start_time": "2022-11-28T18:15:13.238964Z"
    }
   },
   "outputs": [],
   "source": [
    "from sklearn.metrics import accuracy_score, classification_report"
   ]
  },
  {
   "cell_type": "code",
   "execution_count": 32,
   "id": "bd6bbf10",
   "metadata": {
    "ExecuteTime": {
     "end_time": "2022-11-28T18:15:14.217742Z",
     "start_time": "2022-11-28T18:15:14.213643Z"
    }
   },
   "outputs": [],
   "source": [
    "from sklearn.model_selection import cross_val_score,  StratifiedGroupKFold, GridSearchCV, StratifiedKFold"
   ]
  },
  {
   "cell_type": "code",
   "execution_count": 33,
   "id": "b0be5860",
   "metadata": {
    "ExecuteTime": {
     "end_time": "2022-11-28T18:15:15.122341Z",
     "start_time": "2022-11-28T18:15:15.112340Z"
    }
   },
   "outputs": [],
   "source": [
    "skf = StratifiedKFold(n_splits=5)"
   ]
  },
  {
   "cell_type": "code",
   "execution_count": 34,
   "id": "97025c1a",
   "metadata": {
    "ExecuteTime": {
     "end_time": "2022-11-28T18:15:17.310757Z",
     "start_time": "2022-11-28T18:15:17.305156Z"
    }
   },
   "outputs": [],
   "source": [
    "gbc = GradientBoostingClassifier()"
   ]
  },
  {
   "cell_type": "code",
   "execution_count": 35,
   "id": "9aed522c",
   "metadata": {
    "ExecuteTime": {
     "end_time": "2022-11-28T18:15:23.987550Z",
     "start_time": "2022-11-28T18:15:17.835527Z"
    }
   },
   "outputs": [
    {
     "data": {
      "text/plain": [
       "0.8903938138635736"
      ]
     },
     "execution_count": 35,
     "metadata": {},
     "output_type": "execute_result"
    }
   ],
   "source": [
    "np.mean(cross_val_score(gbc,X,y,cv=skf,n_jobs=-1,scoring='accuracy'))"
   ]
  },
  {
   "cell_type": "code",
   "execution_count": 58,
   "id": "8df1cf73",
   "metadata": {
    "ExecuteTime": {
     "end_time": "2022-11-28T12:49:09.885574Z",
     "start_time": "2022-11-28T12:49:09.872487Z"
    }
   },
   "outputs": [],
   "source": [
    "min_samples_split = [40,50,60]\n",
    "min_samples_leaf = [10,15,20]\n",
    "n_estimators = [200,400,500]\n",
    "max_depth = [4,5,6]\n",
    "max_features = [0.3,0.4,0.5]\n",
    "learning_rate = [0.001,0.005,0.009,0.1]\n",
    "criterion = ['friedman_mse', 'squared_error']\n",
    "\n"
   ]
  },
  {
   "cell_type": "code",
   "execution_count": 36,
   "id": "3ceb307f",
   "metadata": {
    "ExecuteTime": {
     "end_time": "2022-11-28T18:17:03.972824Z",
     "start_time": "2022-11-28T18:17:03.957311Z"
    }
   },
   "outputs": [],
   "source": [
    "min_samples_split = [60,70,80]\n",
    "min_samples_leaf = [10,15,20]\n",
    "n_estimators = [500,600,700]\n",
    "max_depth = [5]\n",
    "max_features = [0.3,0.4,0.5]\n",
    "learning_rate = [0.1,0.3,0.5]\n",
    "criterion = ['squared_error']"
   ]
  },
  {
   "cell_type": "code",
   "execution_count": 38,
   "id": "ce54b366",
   "metadata": {
    "ExecuteTime": {
     "end_time": "2022-11-28T18:17:25.023267Z",
     "start_time": "2022-11-28T18:17:25.012268Z"
    }
   },
   "outputs": [],
   "source": [
    "param_grid = {'min_samples_split': min_samples_split,\n",
    "              'min_samples_leaf' : min_samples_leaf,\n",
    "              'n_estimators' : n_estimators,\n",
    "              'criterion': criterion,\n",
    "              'max_depth':max_depth,\n",
    "              'max_features':max_features,\n",
    "              'learning_rate':learning_rate,\n",
    "              'criterion':criterion         \n",
    "             }"
   ]
  },
  {
   "cell_type": "code",
   "execution_count": 39,
   "id": "2683ed15",
   "metadata": {
    "ExecuteTime": {
     "end_time": "2022-11-28T18:17:27.819158Z",
     "start_time": "2022-11-28T18:17:27.803646Z"
    }
   },
   "outputs": [],
   "source": [
    "rf_grid = GridSearchCV(estimator=GradientBoostingClassifier(),param_grid=param_grid,verbose=2,n_jobs=-1,return_train_score=True)"
   ]
  },
  {
   "cell_type": "code",
   "execution_count": 40,
   "id": "1730a85e",
   "metadata": {
    "ExecuteTime": {
     "end_time": "2022-11-28T19:03:36.202722Z",
     "start_time": "2022-11-28T18:17:34.495969Z"
    }
   },
   "outputs": [
    {
     "name": "stdout",
     "output_type": "stream",
     "text": [
      "Fitting 5 folds for each of 243 candidates, totalling 1215 fits\n"
     ]
    },
    {
     "data": {
      "text/plain": [
       "GridSearchCV(estimator=GradientBoostingClassifier(), n_jobs=-1,\n",
       "             param_grid={'criterion': ['squared_error'],\n",
       "                         'learning_rate': [0.1, 0.3, 0.5], 'max_depth': [5],\n",
       "                         'max_features': [0.3, 0.4, 0.5],\n",
       "                         'min_samples_leaf': [10, 15, 20],\n",
       "                         'min_samples_split': [60, 70, 80],\n",
       "                         'n_estimators': [500, 600, 700]},\n",
       "             return_train_score=True, verbose=2)"
      ]
     },
     "execution_count": 40,
     "metadata": {},
     "output_type": "execute_result"
    }
   ],
   "source": [
    "rf_grid.fit(X_train_scaled,y_train)"
   ]
  },
  {
   "cell_type": "code",
   "execution_count": 41,
   "id": "26618fff",
   "metadata": {
    "ExecuteTime": {
     "end_time": "2022-11-28T19:03:36.227849Z",
     "start_time": "2022-11-28T19:03:36.207838Z"
    }
   },
   "outputs": [
    {
     "data": {
      "text/plain": [
       "{'criterion': 'squared_error',\n",
       " 'learning_rate': 0.5,\n",
       " 'max_depth': 5,\n",
       " 'max_features': 0.3,\n",
       " 'min_samples_leaf': 10,\n",
       " 'min_samples_split': 60,\n",
       " 'n_estimators': 600}"
      ]
     },
     "execution_count": 41,
     "metadata": {},
     "output_type": "execute_result"
    }
   ],
   "source": [
    "rf_grid.best_params_"
   ]
  },
  {
   "cell_type": "code",
   "execution_count": null,
   "id": "5f95cc47",
   "metadata": {},
   "outputs": [],
   "source": []
  },
  {
   "cell_type": "code",
   "execution_count": 42,
   "id": "1eb47c45",
   "metadata": {
    "ExecuteTime": {
     "end_time": "2022-11-28T19:05:51.715319Z",
     "start_time": "2022-11-28T19:05:51.699131Z"
    }
   },
   "outputs": [
    {
     "data": {
      "text/plain": [
       "0.9547058823529412"
      ]
     },
     "execution_count": 42,
     "metadata": {},
     "output_type": "execute_result"
    }
   ],
   "source": [
    "rf_grid.best_score_"
   ]
  },
  {
   "cell_type": "code",
   "execution_count": 43,
   "id": "4d1e0ac3",
   "metadata": {
    "ExecuteTime": {
     "end_time": "2022-11-28T19:06:02.345577Z",
     "start_time": "2022-11-28T19:06:02.321367Z"
    }
   },
   "outputs": [
    {
     "data": {
      "text/plain": [
       "0.9547058823529412"
      ]
     },
     "execution_count": 43,
     "metadata": {},
     "output_type": "execute_result"
    }
   ],
   "source": [
    "rf_grid.best_score_\n"
   ]
  },
  {
   "cell_type": "code",
   "execution_count": 50,
   "id": "3398a1bd",
   "metadata": {
    "ExecuteTime": {
     "end_time": "2022-11-28T19:07:15.926744Z",
     "start_time": "2022-11-28T19:07:15.894745Z"
    }
   },
   "outputs": [],
   "source": [
    "hyper_df = pd.DataFrame(rf_grid.cv_results_).sort_values(by='mean_test_score',ascending=False)\n",
    "hyper_df.to_csv('hyperparamter_gradientboosting1.csv')"
   ]
  },
  {
   "cell_type": "code",
   "execution_count": 45,
   "id": "30716a8f",
   "metadata": {
    "ExecuteTime": {
     "end_time": "2022-11-28T19:06:24.301678Z",
     "start_time": "2022-11-28T19:06:24.285237Z"
    }
   },
   "outputs": [
    {
     "data": {
      "text/plain": [
       "Index(['mean_fit_time', 'std_fit_time', 'mean_score_time', 'std_score_time',\n",
       "       'param_criterion', 'param_learning_rate', 'param_max_depth',\n",
       "       'param_max_features', 'param_min_samples_leaf',\n",
       "       'param_min_samples_split', 'param_n_estimators', 'params',\n",
       "       'split0_test_score', 'split1_test_score', 'split2_test_score',\n",
       "       'split3_test_score', 'split4_test_score', 'mean_test_score',\n",
       "       'std_test_score', 'rank_test_score', 'split0_train_score',\n",
       "       'split1_train_score', 'split2_train_score', 'split3_train_score',\n",
       "       'split4_train_score', 'mean_train_score', 'std_train_score'],\n",
       "      dtype='object')"
      ]
     },
     "execution_count": 45,
     "metadata": {},
     "output_type": "execute_result"
    }
   ],
   "source": [
    "hyper_df.columns"
   ]
  },
  {
   "cell_type": "code",
   "execution_count": 46,
   "id": "2cd2741a",
   "metadata": {
    "ExecuteTime": {
     "end_time": "2022-11-28T19:06:25.265938Z",
     "start_time": "2022-11-28T19:06:25.241102Z"
    }
   },
   "outputs": [
    {
     "data": {
      "text/html": [
       "<div>\n",
       "<style scoped>\n",
       "    .dataframe tbody tr th:only-of-type {\n",
       "        vertical-align: middle;\n",
       "    }\n",
       "\n",
       "    .dataframe tbody tr th {\n",
       "        vertical-align: top;\n",
       "    }\n",
       "\n",
       "    .dataframe thead th {\n",
       "        text-align: right;\n",
       "    }\n",
       "</style>\n",
       "<table border=\"1\" class=\"dataframe\">\n",
       "  <thead>\n",
       "    <tr style=\"text-align: right;\">\n",
       "      <th></th>\n",
       "      <th>mean_test_score</th>\n",
       "      <th>mean_train_score</th>\n",
       "      <th>param_criterion</th>\n",
       "      <th>param_learning_rate</th>\n",
       "      <th>param_max_depth</th>\n",
       "      <th>param_max_features</th>\n",
       "      <th>param_min_samples_leaf</th>\n",
       "      <th>param_min_samples_split</th>\n",
       "      <th>param_n_estimators</th>\n",
       "    </tr>\n",
       "  </thead>\n",
       "  <tbody>\n",
       "    <tr>\n",
       "      <th>8</th>\n",
       "      <td>0.952941</td>\n",
       "      <td>0.998824</td>\n",
       "      <td>squared_error</td>\n",
       "      <td>0.1</td>\n",
       "      <td>5</td>\n",
       "      <td>0.3</td>\n",
       "      <td>10</td>\n",
       "      <td>80</td>\n",
       "      <td>700</td>\n",
       "    </tr>\n",
       "    <tr>\n",
       "      <th>105</th>\n",
       "      <td>0.952941</td>\n",
       "      <td>0.998824</td>\n",
       "      <td>squared_error</td>\n",
       "      <td>0.3</td>\n",
       "      <td>5</td>\n",
       "      <td>0.3</td>\n",
       "      <td>20</td>\n",
       "      <td>80</td>\n",
       "      <td>500</td>\n",
       "    </tr>\n",
       "    <tr>\n",
       "      <th>143</th>\n",
       "      <td>0.952941</td>\n",
       "      <td>0.998824</td>\n",
       "      <td>squared_error</td>\n",
       "      <td>0.3</td>\n",
       "      <td>5</td>\n",
       "      <td>0.5</td>\n",
       "      <td>10</td>\n",
       "      <td>80</td>\n",
       "      <td>700</td>\n",
       "    </tr>\n",
       "    <tr>\n",
       "      <th>121</th>\n",
       "      <td>0.952353</td>\n",
       "      <td>0.998824</td>\n",
       "      <td>squared_error</td>\n",
       "      <td>0.3</td>\n",
       "      <td>5</td>\n",
       "      <td>0.4</td>\n",
       "      <td>15</td>\n",
       "      <td>70</td>\n",
       "      <td>600</td>\n",
       "    </tr>\n",
       "    <tr>\n",
       "      <th>84</th>\n",
       "      <td>0.952353</td>\n",
       "      <td>0.998824</td>\n",
       "      <td>squared_error</td>\n",
       "      <td>0.3</td>\n",
       "      <td>5</td>\n",
       "      <td>0.3</td>\n",
       "      <td>10</td>\n",
       "      <td>70</td>\n",
       "      <td>500</td>\n",
       "    </tr>\n",
       "  </tbody>\n",
       "</table>\n",
       "</div>"
      ],
      "text/plain": [
       "     mean_test_score  mean_train_score param_criterion param_learning_rate  \\\n",
       "8           0.952941          0.998824   squared_error                 0.1   \n",
       "105         0.952941          0.998824   squared_error                 0.3   \n",
       "143         0.952941          0.998824   squared_error                 0.3   \n",
       "121         0.952353          0.998824   squared_error                 0.3   \n",
       "84          0.952353          0.998824   squared_error                 0.3   \n",
       "\n",
       "    param_max_depth param_max_features param_min_samples_leaf  \\\n",
       "8                 5                0.3                     10   \n",
       "105               5                0.3                     20   \n",
       "143               5                0.5                     10   \n",
       "121               5                0.4                     15   \n",
       "84                5                0.3                     10   \n",
       "\n",
       "    param_min_samples_split param_n_estimators  \n",
       "8                        80                700  \n",
       "105                      80                500  \n",
       "143                      80                700  \n",
       "121                      70                600  \n",
       "84                       70                500  "
      ]
     },
     "execution_count": 46,
     "metadata": {},
     "output_type": "execute_result"
    }
   ],
   "source": [
    "hyper_df[['mean_test_score','mean_train_score','param_criterion','param_learning_rate','param_max_depth',\n",
    "       'param_max_features', 'param_min_samples_leaf',\n",
    "       'param_min_samples_split', 'param_n_estimators']].iloc[5:10,:]"
   ]
  },
  {
   "cell_type": "code",
   "execution_count": 47,
   "id": "bab2ff10",
   "metadata": {
    "ExecuteTime": {
     "end_time": "2022-11-28T19:06:25.968690Z",
     "start_time": "2022-11-28T19:06:25.943950Z"
    }
   },
   "outputs": [
    {
     "data": {
      "text/html": [
       "<div>\n",
       "<style scoped>\n",
       "    .dataframe tbody tr th:only-of-type {\n",
       "        vertical-align: middle;\n",
       "    }\n",
       "\n",
       "    .dataframe tbody tr th {\n",
       "        vertical-align: top;\n",
       "    }\n",
       "\n",
       "    .dataframe thead th {\n",
       "        text-align: right;\n",
       "    }\n",
       "</style>\n",
       "<table border=\"1\" class=\"dataframe\">\n",
       "  <thead>\n",
       "    <tr style=\"text-align: right;\">\n",
       "      <th></th>\n",
       "      <th>params</th>\n",
       "    </tr>\n",
       "  </thead>\n",
       "  <tbody>\n",
       "    <tr>\n",
       "      <th>163</th>\n",
       "      <td>{'criterion': 'squared_error', 'learning_rate'...</td>\n",
       "    </tr>\n",
       "    <tr>\n",
       "      <th>195</th>\n",
       "      <td>{'criterion': 'squared_error', 'learning_rate'...</td>\n",
       "    </tr>\n",
       "    <tr>\n",
       "      <th>106</th>\n",
       "      <td>{'criterion': 'squared_error', 'learning_rate'...</td>\n",
       "    </tr>\n",
       "    <tr>\n",
       "      <th>4</th>\n",
       "      <td>{'criterion': 'squared_error', 'learning_rate'...</td>\n",
       "    </tr>\n",
       "    <tr>\n",
       "      <th>101</th>\n",
       "      <td>{'criterion': 'squared_error', 'learning_rate'...</td>\n",
       "    </tr>\n",
       "    <tr>\n",
       "      <th>...</th>\n",
       "      <td>...</td>\n",
       "    </tr>\n",
       "    <tr>\n",
       "      <th>173</th>\n",
       "      <td>{'criterion': 'squared_error', 'learning_rate'...</td>\n",
       "    </tr>\n",
       "    <tr>\n",
       "      <th>159</th>\n",
       "      <td>{'criterion': 'squared_error', 'learning_rate'...</td>\n",
       "    </tr>\n",
       "    <tr>\n",
       "      <th>181</th>\n",
       "      <td>{'criterion': 'squared_error', 'learning_rate'...</td>\n",
       "    </tr>\n",
       "    <tr>\n",
       "      <th>213</th>\n",
       "      <td>{'criterion': 'squared_error', 'learning_rate'...</td>\n",
       "    </tr>\n",
       "    <tr>\n",
       "      <th>234</th>\n",
       "      <td>{'criterion': 'squared_error', 'learning_rate'...</td>\n",
       "    </tr>\n",
       "  </tbody>\n",
       "</table>\n",
       "<p>243 rows × 1 columns</p>\n",
       "</div>"
      ],
      "text/plain": [
       "                                                params\n",
       "163  {'criterion': 'squared_error', 'learning_rate'...\n",
       "195  {'criterion': 'squared_error', 'learning_rate'...\n",
       "106  {'criterion': 'squared_error', 'learning_rate'...\n",
       "4    {'criterion': 'squared_error', 'learning_rate'...\n",
       "101  {'criterion': 'squared_error', 'learning_rate'...\n",
       "..                                                 ...\n",
       "173  {'criterion': 'squared_error', 'learning_rate'...\n",
       "159  {'criterion': 'squared_error', 'learning_rate'...\n",
       "181  {'criterion': 'squared_error', 'learning_rate'...\n",
       "213  {'criterion': 'squared_error', 'learning_rate'...\n",
       "234  {'criterion': 'squared_error', 'learning_rate'...\n",
       "\n",
       "[243 rows x 1 columns]"
      ]
     },
     "execution_count": 47,
     "metadata": {},
     "output_type": "execute_result"
    }
   ],
   "source": [
    "hyper_df[['params']]"
   ]
  },
  {
   "cell_type": "code",
   "execution_count": 63,
   "id": "57b63fb3",
   "metadata": {
    "ExecuteTime": {
     "end_time": "2022-11-28T19:12:25.536243Z",
     "start_time": "2022-11-28T19:12:25.511795Z"
    }
   },
   "outputs": [
    {
     "data": {
      "text/html": [
       "<div>\n",
       "<style scoped>\n",
       "    .dataframe tbody tr th:only-of-type {\n",
       "        vertical-align: middle;\n",
       "    }\n",
       "\n",
       "    .dataframe tbody tr th {\n",
       "        vertical-align: top;\n",
       "    }\n",
       "\n",
       "    .dataframe thead th {\n",
       "        text-align: right;\n",
       "    }\n",
       "</style>\n",
       "<table border=\"1\" class=\"dataframe\">\n",
       "  <thead>\n",
       "    <tr style=\"text-align: right;\">\n",
       "      <th></th>\n",
       "      <th>param_max_depth</th>\n",
       "      <th>mean_train_score</th>\n",
       "      <th>mean_test_score</th>\n",
       "    </tr>\n",
       "  </thead>\n",
       "  <tbody>\n",
       "    <tr>\n",
       "      <th>163</th>\n",
       "      <td>5</td>\n",
       "      <td>0.998824</td>\n",
       "      <td>0.954706</td>\n",
       "    </tr>\n",
       "    <tr>\n",
       "      <th>195</th>\n",
       "      <td>5</td>\n",
       "      <td>0.998824</td>\n",
       "      <td>0.954118</td>\n",
       "    </tr>\n",
       "    <tr>\n",
       "      <th>106</th>\n",
       "      <td>5</td>\n",
       "      <td>0.998824</td>\n",
       "      <td>0.954118</td>\n",
       "    </tr>\n",
       "    <tr>\n",
       "      <th>4</th>\n",
       "      <td>5</td>\n",
       "      <td>0.998824</td>\n",
       "      <td>0.952941</td>\n",
       "    </tr>\n",
       "    <tr>\n",
       "      <th>101</th>\n",
       "      <td>5</td>\n",
       "      <td>0.998824</td>\n",
       "      <td>0.952941</td>\n",
       "    </tr>\n",
       "    <tr>\n",
       "      <th>...</th>\n",
       "      <td>...</td>\n",
       "      <td>...</td>\n",
       "      <td>...</td>\n",
       "    </tr>\n",
       "    <tr>\n",
       "      <th>173</th>\n",
       "      <td>5</td>\n",
       "      <td>0.998824</td>\n",
       "      <td>0.947059</td>\n",
       "    </tr>\n",
       "    <tr>\n",
       "      <th>159</th>\n",
       "      <td>5</td>\n",
       "      <td>0.998824</td>\n",
       "      <td>0.947059</td>\n",
       "    </tr>\n",
       "    <tr>\n",
       "      <th>181</th>\n",
       "      <td>5</td>\n",
       "      <td>0.998824</td>\n",
       "      <td>0.947059</td>\n",
       "    </tr>\n",
       "    <tr>\n",
       "      <th>213</th>\n",
       "      <td>5</td>\n",
       "      <td>0.998824</td>\n",
       "      <td>0.947059</td>\n",
       "    </tr>\n",
       "    <tr>\n",
       "      <th>234</th>\n",
       "      <td>5</td>\n",
       "      <td>0.998824</td>\n",
       "      <td>0.945294</td>\n",
       "    </tr>\n",
       "  </tbody>\n",
       "</table>\n",
       "<p>243 rows × 3 columns</p>\n",
       "</div>"
      ],
      "text/plain": [
       "    param_max_depth  mean_train_score  mean_test_score\n",
       "163               5          0.998824         0.954706\n",
       "195               5          0.998824         0.954118\n",
       "106               5          0.998824         0.954118\n",
       "4                 5          0.998824         0.952941\n",
       "101               5          0.998824         0.952941\n",
       "..              ...               ...              ...\n",
       "173               5          0.998824         0.947059\n",
       "159               5          0.998824         0.947059\n",
       "181               5          0.998824         0.947059\n",
       "213               5          0.998824         0.947059\n",
       "234               5          0.998824         0.945294\n",
       "\n",
       "[243 rows x 3 columns]"
      ]
     },
     "execution_count": 63,
     "metadata": {},
     "output_type": "execute_result"
    }
   ],
   "source": [
    "max_sept_train_test = hyper_df[['param_max_depth','mean_train_score','mean_test_score']]\n",
    "max_sept_train_test"
   ]
  },
  {
   "cell_type": "code",
   "execution_count": 95,
   "id": "b3b4b842",
   "metadata": {
    "ExecuteTime": {
     "end_time": "2022-11-28T19:15:46.288557Z",
     "start_time": "2022-11-28T19:15:46.272806Z"
    }
   },
   "outputs": [],
   "source": [
    "gbc_best = GradientBoostingClassifier(criterion = 'squared_error',\n",
    "                           learning_rate=0.3,\n",
    "                           max_depth=5,\n",
    "                           max_features=0.4,\n",
    "                           min_samples_leaf=15,\n",
    "                          min_samples_split=60,\n",
    "                          n_estimators=300,\n",
    "                          verbose=1)"
   ]
  },
  {
   "cell_type": "code",
   "execution_count": 96,
   "id": "87296434",
   "metadata": {
    "ExecuteTime": {
     "end_time": "2022-11-28T19:15:51.748996Z",
     "start_time": "2022-11-28T19:15:46.467999Z"
    }
   },
   "outputs": [
    {
     "name": "stdout",
     "output_type": "stream",
     "text": [
      "      Iter       Train Loss   Remaining Time \n",
      "         1           0.3869            2.39s\n",
      "         2           0.2934           15.89s\n",
      "         3           0.2356           13.51s\n",
      "         4           0.1985           11.95s\n",
      "         5           0.1723           10.48s\n",
      "         6           0.1523            9.57s\n",
      "         7           0.1363            9.51s\n",
      "         8           0.1244            8.88s\n",
      "         9           0.1115            8.65s\n",
      "        10           0.1015            8.23s\n",
      "        20           0.0504            6.71s\n",
      "        30           0.0290            5.84s\n",
      "        40           0.0179            5.33s\n",
      "        50           0.0116            5.00s\n",
      "        60           0.0080            4.64s\n",
      "        70           0.0055            4.35s\n",
      "        80           0.0042            4.09s\n",
      "        90           0.0034            3.83s\n",
      "       100           0.0028            3.58s\n",
      "       200           0.0017            1.75s\n",
      "       300           0.0016            0.00s\n"
     ]
    },
    {
     "data": {
      "text/plain": [
       "GradientBoostingClassifier(criterion='squared_error', learning_rate=0.3,\n",
       "                           max_depth=5, max_features=0.4, min_samples_leaf=15,\n",
       "                           min_samples_split=60, n_estimators=300, verbose=1)"
      ]
     },
     "execution_count": 96,
     "metadata": {},
     "output_type": "execute_result"
    }
   ],
   "source": [
    "gbc_best.fit(X_train_scaled,y_train)"
   ]
  },
  {
   "cell_type": "code",
   "execution_count": 97,
   "id": "8e2a7d1b",
   "metadata": {
    "ExecuteTime": {
     "end_time": "2022-11-28T19:15:51.815239Z",
     "start_time": "2022-11-28T19:15:51.755276Z"
    }
   },
   "outputs": [
    {
     "data": {
      "text/plain": [
       "array([1., 1., 1., 1., 1., 1., 1., 1., 1., 1., 2., 2., 1., 1., 1., 1., 1.,\n",
       "       1., 2., 1., 1., 1., 1., 1., 1., 3., 1., 2., 1., 2., 1., 1., 3., 1.,\n",
       "       1., 1., 1., 2., 3., 1., 1., 1., 1., 1., 3., 1., 1., 1., 1., 1., 1.,\n",
       "       1., 1., 1., 1., 1., 1., 1., 2., 3., 2., 1., 1., 1., 2., 1., 1., 1.,\n",
       "       1., 1., 1., 3., 1., 1., 1., 1., 1., 1., 1., 2., 1., 2., 2., 2., 1.,\n",
       "       1., 1., 2., 1., 1., 1., 1., 1., 1., 1., 1., 2., 1., 3., 1., 1., 2.,\n",
       "       3., 2., 1., 3., 1., 1., 1., 2., 2., 1., 2., 1., 1., 2., 1., 1., 1.,\n",
       "       1., 1., 1., 1., 2., 1., 3., 1., 1., 1., 1., 1., 1., 1., 1., 1., 3.,\n",
       "       1., 1., 3., 3., 1., 1., 1., 2., 1., 1., 1., 1., 1., 3., 2., 1., 1.,\n",
       "       1., 2., 1., 1., 1., 1., 1., 1., 1., 2., 2., 1., 3., 1., 1., 1., 1.,\n",
       "       1., 1., 1., 1., 1., 1., 1., 1., 1., 1., 1., 1., 2., 1., 1., 2., 1.,\n",
       "       3., 2., 1., 1., 1., 1., 1., 1., 1., 1., 1., 1., 1., 1., 2., 1., 1.,\n",
       "       1., 1., 2., 1., 1., 1., 1., 1., 1., 1., 2., 1., 2., 1., 1., 1., 1.,\n",
       "       1., 1., 3., 1., 1., 1., 1., 1., 1., 1., 3., 1., 1., 1., 3., 3., 1.,\n",
       "       1., 1., 1., 1., 2., 1., 1., 1., 1., 1., 1., 3., 1., 3., 1., 1., 1.,\n",
       "       2., 1., 1., 2., 1., 1., 1., 1., 1., 1., 1., 1., 1., 1., 1., 1., 1.,\n",
       "       1., 1., 1., 2., 1., 2., 1., 1., 1., 1., 2., 1., 1., 1., 1., 1., 3.,\n",
       "       1., 1., 1., 3., 1., 3., 1., 1., 1., 1., 2., 1., 3., 1., 2., 3., 1.,\n",
       "       1., 1., 1., 1., 1., 2., 1., 3., 3., 1., 3., 1., 1., 3., 1., 1., 1.,\n",
       "       1., 2., 1., 1., 3., 1., 1., 2., 1., 1., 1., 1., 1., 1., 1., 2., 1.,\n",
       "       1., 2., 2., 1., 1., 1., 1., 1., 1., 1., 1., 1., 1., 1., 1., 1., 1.,\n",
       "       1., 2., 2., 1., 1., 1., 2., 1., 1., 1., 1., 1., 2., 1., 1., 1., 1.,\n",
       "       1., 1., 1., 1., 1., 1., 1., 1., 1., 1., 1., 3., 1., 1., 1., 1., 1.,\n",
       "       1., 1., 1., 1., 1., 1., 1., 1., 1., 1., 3., 1., 3., 1., 1., 1., 1.,\n",
       "       1., 1., 1., 1., 2., 3., 1., 2., 1., 3., 1., 1., 2., 1., 3., 2., 1.,\n",
       "       1.])"
      ]
     },
     "execution_count": 97,
     "metadata": {},
     "output_type": "execute_result"
    }
   ],
   "source": [
    "y_pred = gbc_best.predict(X_test_scaled)\n",
    "y_pred"
   ]
  },
  {
   "cell_type": "code",
   "execution_count": 98,
   "id": "3d36bcdb",
   "metadata": {
    "ExecuteTime": {
     "end_time": "2022-11-28T19:15:51.831878Z",
     "start_time": "2022-11-28T19:15:51.820175Z"
    }
   },
   "outputs": [
    {
     "name": "stdout",
     "output_type": "stream",
     "text": [
      "testing score of gradient Boosting :  96.948 %\n"
     ]
    }
   ],
   "source": [
    "print(\"testing score of gradient Boosting : \",\"%.3f\"%(accuracy_score(y_test,y_pred)*100),\"%\")"
   ]
  },
  {
   "cell_type": "code",
   "execution_count": 99,
   "id": "aa5f9ca6",
   "metadata": {
    "ExecuteTime": {
     "end_time": "2022-11-28T19:15:51.912718Z",
     "start_time": "2022-11-28T19:15:51.831878Z"
    }
   },
   "outputs": [
    {
     "name": "stdout",
     "output_type": "stream",
     "text": [
      "testing score of gradient Boosting :  99.882 %\n"
     ]
    }
   ],
   "source": [
    "print(\"testing score of gradient Boosting : \",\"%.3f\"%(accuracy_score(y_train,gbc_best.predict(X_train_scaled))*100),\"%\")"
   ]
  },
  {
   "cell_type": "code",
   "execution_count": 100,
   "id": "7f2a5655",
   "metadata": {
    "ExecuteTime": {
     "end_time": "2022-11-28T19:15:51.946115Z",
     "start_time": "2022-11-28T19:15:51.916537Z"
    }
   },
   "outputs": [
    {
     "name": "stdout",
     "output_type": "stream",
     "text": [
      "              precision    recall  f1-score   support\n",
      "\n",
      "         1.0       0.98      0.98      0.98       332\n",
      "         2.0       0.93      0.88      0.90        59\n",
      "         3.0       0.89      0.97      0.93        35\n",
      "\n",
      "    accuracy                           0.97       426\n",
      "   macro avg       0.94      0.95      0.94       426\n",
      "weighted avg       0.97      0.97      0.97       426\n",
      "\n"
     ]
    }
   ],
   "source": [
    "gradient_boosting_classifcation = classification_report(y_test,y_pred)\n",
    "print(gradient_boosting_classifcation)"
   ]
  },
  {
   "cell_type": "code",
   "execution_count": null,
   "id": "5dd8ff2a",
   "metadata": {},
   "outputs": [],
   "source": []
  },
  {
   "cell_type": "code",
   "execution_count": null,
   "id": "7a5f4f8e",
   "metadata": {},
   "outputs": [],
   "source": []
  }
 ],
 "metadata": {
  "kernelspec": {
   "display_name": "Python 3 (ipykernel)",
   "language": "python",
   "name": "python3"
  },
  "language_info": {
   "codemirror_mode": {
    "name": "ipython",
    "version": 3
   },
   "file_extension": ".py",
   "mimetype": "text/x-python",
   "name": "python",
   "nbconvert_exporter": "python",
   "pygments_lexer": "ipython3",
   "version": "3.9.13"
  }
 },
 "nbformat": 4,
 "nbformat_minor": 5
}
